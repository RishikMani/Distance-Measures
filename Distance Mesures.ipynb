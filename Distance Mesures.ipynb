{
 "cells": [
  {
   "cell_type": "markdown",
   "metadata": {},
   "source": [
    "Distance measuring is an important aspect for machine learning. It gives an estimate as to how close two observations are. Distance measure gives a good estimate on how similar two observations are. It could also help reduce the error during prediction so that predicted outputs are in the vicinity of the input data, increasing the prediction accuracy.\n",
    "\n",
    "A distance function provides distance between the elements of a set. If the distance is zero then elements are equivalent else they are different from each other. Distance measures tell about the similarity and dissimilarity of two vectors.\n",
    "\n",
    "There are many distance measures, but we are going to focus mainly on the following four distance measures:\n",
    "<ol>\n",
    "    <li>Hamming distance</li>\n",
    "    <li>Euclidean distance</li>\n",
    "    <li>Manhattan distance</li>\n",
    "    <li>Minkowski distance</li>\n",
    "</ol>"
   ]
  },
  {
   "cell_type": "markdown",
   "metadata": {},
   "source": [
    "## Hamming distance"
   ]
  },
  {
   "cell_type": "markdown",
   "metadata": {},
   "source": [
    "According to [Wikipedia](https://en.wikipedia.org/wiki/Hamming_distance), hamming distance between two strings of equal length is the number of positions in which the corresponding symbols are different. It could also be defined, as the minimum number of sustitutions needed to change one string into another.\n",
    "\n",
    "e.g. The Hamming distance between:\n",
    "<ul>\n",
    "    <li><b>B</b>at and <b>C</b>at is 1.</li>\n",
    "    <li>100<b>0</b>10<b>1</b> and 100<b>1</b>10<b>0</b> is 2.</li>\n",
    "</ul>\n",
    "\n",
    "Hamming distance could be defined as: (sum of the disagreeing components per position) / (length of the string).\n",
    "\n",
    "Let us demonstrate this with an example."
   ]
  },
  {
   "cell_type": "code",
   "execution_count": 1,
   "metadata": {},
   "outputs": [
    {
     "name": "stdout",
     "output_type": "stream",
     "text": [
      "0.2857142857142857\n"
     ]
    }
   ],
   "source": [
    "def hamming_distance(a, b):\n",
    "    return sum(abs(v1 - v2) for v1, v2 in zip(a, b)) / len(a)\n",
    "\n",
    "vector1 = [1, 0, 0, 0, 1, 0, 1]\n",
    "vector2 = [1, 0, 0, 1, 1, 0, 0]\n",
    "\n",
    "print(hamming_distance(vector1, vector2))"
   ]
  },
  {
   "cell_type": "markdown",
   "metadata": {},
   "source": [
    "For bitstrings that may have many 1 bits, it is more common to calculate the average number of bit differences to give a hamming distance score between 0 (identical) and 1 (all different).\n",
    "\n",
    "We could also use the [hamming()](https://docs.scipy.org/doc/scipy/reference/generated/scipy.spatial.distance.hamming.html) function provided by SciPy."
   ]
  },
  {
   "cell_type": "code",
   "execution_count": 2,
   "metadata": {},
   "outputs": [
    {
     "name": "stdout",
     "output_type": "stream",
     "text": [
      "0.2857142857142857\n"
     ]
    }
   ],
   "source": [
    "from scipy.spatial.distance import hamming\n",
    "\n",
    "vector1 = [1, 0, 0, 0, 1, 0, 1]\n",
    "vector2 = [1, 0, 0, 1, 1, 0, 0]\n",
    "\n",
    "print(hamming_distance(vector1, vector2))"
   ]
  },
  {
   "cell_type": "markdown",
   "metadata": {},
   "source": [
    "## Euclidean distance"
   ]
  },
  {
   "cell_type": "markdown",
   "metadata": {},
   "source": [
    "According to [Wikipedia](https://en.wikipedia.org/wiki/Euclidean_distance), the Euclidean distance or Euclidean metric is the \"ordinary\" straight-line distance between two points in Euclidean space.\n",
    "\n",
    "<img src=\"EuclideanDistance.png\" alt=\"Euclidean Distance\" style=\"align:center\"/>"
   ]
  },
  {
   "cell_type": "code",
   "execution_count": 3,
   "metadata": {},
   "outputs": [
    {
     "name": "stdout",
     "output_type": "stream",
     "text": [
      "10.0\n"
     ]
    }
   ],
   "source": [
    "from math import sqrt\n",
    "\n",
    "def euclidean_distance(a, b):\n",
    "    return sqrt(sum((v1 - v2)**2 for v1, v2 in zip(a, b)))\n",
    "\n",
    "vector1 = [10, 20, 30, 40]\n",
    "vector2 = [15, 25, 35, 45]\n",
    "\n",
    "print(euclidean_distance(vector1, vector2))"
   ]
  },
  {
   "cell_type": "markdown",
   "metadata": {},
   "source": [
    "One could also use [euclidean()](https://docs.scipy.org/doc/scipy/reference/generated/scipy.spatial.distance.euclidean.html?highlight=euclidean%20distance#scipy.spatial.distance.euclidean) function provided by SciPy."
   ]
  },
  {
   "cell_type": "code",
   "execution_count": 4,
   "metadata": {},
   "outputs": [
    {
     "name": "stdout",
     "output_type": "stream",
     "text": [
      "10.0\n"
     ]
    }
   ],
   "source": [
    "from scipy.spatial.distance import euclidean\n",
    "\n",
    "print(euclidean(vector1, vector2))"
   ]
  },
  {
   "cell_type": "markdown",
   "metadata": {},
   "source": [
    "## Manhattan distance"
   ]
  },
  {
   "cell_type": "markdown",
   "metadata": {},
   "source": [
    "According to [Wikipedia](https://en.wikipedia.org/wiki/Taxicab_geometry), Manhattan distance or a taxicab geometry is a form of geometry in which the usual distance function or metric of Euclidean geometry is replaced by a new metric in which the distance between two points is the sum of the absolute differences of their Cartesian coordinates.\n",
    "<p style=\"text-align: center\">&sum;<sub>i</sub>|u<sub>i</sub> - v<sub>i</sub>|</p>"
   ]
  },
  {
   "cell_type": "code",
   "execution_count": 5,
   "metadata": {},
   "outputs": [
    {
     "name": "stdout",
     "output_type": "stream",
     "text": [
      "20\n"
     ]
    }
   ],
   "source": [
    "def manhattan_distance(a, b):\n",
    "    return sum(abs(v1 - v2) for v1, v2 in zip(a, b))\n",
    "\n",
    "print(manhattan_distance(vector1, vector2))"
   ]
  },
  {
   "cell_type": "markdown",
   "metadata": {},
   "source": [
    "One could also use [cityblock()](https://docs.scipy.org/doc/scipy/reference/generated/scipy.spatial.distance.cityblock.html?highlight=manhattan%20distance) function provided by SciPy."
   ]
  },
  {
   "cell_type": "code",
   "execution_count": 6,
   "metadata": {},
   "outputs": [
    {
     "name": "stdout",
     "output_type": "stream",
     "text": [
      "20\n"
     ]
    }
   ],
   "source": [
    "from scipy.spatial.distance import cityblock\n",
    "\n",
    "print(cityblock(vector1, vector2))"
   ]
  },
  {
   "cell_type": "markdown",
   "metadata": {},
   "source": [
    "## Minkowski Distance"
   ]
  },
  {
   "cell_type": "markdown",
   "metadata": {},
   "source": [
    "According to [Wikipedia](https://en.wikipedia.org/wiki/Minkowski_distance), Minkowski distance is a metric in a normed vector space which can be considered as a generalization of both the Euclidean distance and the Manhattan distance.\n",
    "\n",
    "<img src=\"MinkowskiDistance.png\" alt=\"Minkowski distance\" style=\"align: center\"/>"
   ]
  },
  {
   "cell_type": "markdown",
   "metadata": {},
   "source": [
    "\"p\" is called the _order_ that allows different distance measures to be calculated. When p=1, the distance is Manhattan distance and when p=2 the distance is Euclidean distance."
   ]
  },
  {
   "cell_type": "code",
   "execution_count": 7,
   "metadata": {},
   "outputs": [
    {
     "name": "stdout",
     "output_type": "stream",
     "text": [
      "20.0\n",
      "10.0\n"
     ]
    }
   ],
   "source": [
    "def minkowski_distance(a, b, p):\n",
    "    return (sum(abs(v1 - v2)**p for v1, v2 in zip(a,b)))**(1/p)\n",
    "\n",
    "print(minkowski_distance(vector1, vector2, 1))\n",
    "print(minkowski_distance(vector1, vector2, 2))"
   ]
  }
 ],
 "metadata": {
  "kernelspec": {
   "display_name": "Python 3",
   "language": "python",
   "name": "python3"
  },
  "language_info": {
   "codemirror_mode": {
    "name": "ipython",
    "version": 3
   },
   "file_extension": ".py",
   "mimetype": "text/x-python",
   "name": "python",
   "nbconvert_exporter": "python",
   "pygments_lexer": "ipython3",
   "version": "3.7.4"
  }
 },
 "nbformat": 4,
 "nbformat_minor": 4
}
